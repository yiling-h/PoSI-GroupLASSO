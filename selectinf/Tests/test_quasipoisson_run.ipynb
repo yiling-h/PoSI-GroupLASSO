{
 "cells": [
  {
   "cell_type": "code",
   "execution_count": 32,
   "metadata": {
    "collapsed": true
   },
   "outputs": [],
   "source": [
    "import numpy as np\n",
    "import pandas as pd\n",
    "\n",
    "import regreg.api as rr\n",
    "\n",
    "from selectinf.group_lasso_query_quasi import (group_lasso_quasi)\n",
    "\n",
    "from selectinf.base import (selected_targets_quasi)\n",
    "\n",
    "from selectinf.base import restricted_estimator\n",
    "import scipy.stats"
   ]
  },
  {
   "cell_type": "code",
   "execution_count": 49,
   "outputs": [],
   "source": [
    "X = np.asarray(pd.read_csv(\"X_quasi.csv\", header=None, index_col=0))\n",
    "Y = np.asarray(pd.read_csv(\"Y_quasi.csv\", header=None, index_col=0))\n",
    "groups = np.arange(50).repeat(4)\n",
    "n,p = X.shape\n",
    "Y = np.reshape(Y, (n,))"
   ],
   "metadata": {
    "collapsed": false
   }
  },
  {
   "cell_type": "code",
   "execution_count": 50,
   "outputs": [
    {
     "data": {
      "text/plain": "array([[ 1.11387862e-01,  0.00000000e+00,  0.00000000e+00, ...,\n         3.51420355e-03, -2.73864428e-02,  1.09097755e-02],\n       [ 0.00000000e+00,  0.00000000e+00,  0.00000000e+00, ...,\n        -2.31232150e-02, -6.57981512e-03,  2.00652073e-02],\n       [ 0.00000000e+00,  0.00000000e+00,  0.00000000e+00, ...,\n        -8.57872700e-03, -1.64771378e-02,  2.27324254e-03],\n       ...,\n       [ 0.00000000e+00,  0.00000000e+00,  1.11387862e-01, ...,\n        -4.14751581e-03,  4.37496513e-02,  6.94383824e-02],\n       [ 1.11387862e-01,  0.00000000e+00,  0.00000000e+00, ...,\n        -1.61901403e-02, -4.33401497e-02, -8.94975675e-02],\n       [ 0.00000000e+00,  1.13542566e-01,  0.00000000e+00, ...,\n         4.67863991e-05,  5.89862924e-02,  5.81135345e-02]])"
     },
     "execution_count": 50,
     "metadata": {},
     "output_type": "execute_result"
    }
   ],
   "source": [
    "X"
   ],
   "metadata": {
    "collapsed": false
   }
  },
  {
   "cell_type": "code",
   "execution_count": 51,
   "outputs": [
    {
     "data": {
      "text/plain": "array([0., 0., 0., 0., 2., 0., 0., 0., 0., 0., 1., 2., 1., 1., 1., 0., 2.,\n       0., 0., 0., 0., 2., 2., 0., 1., 2., 1., 1., 1., 2., 0., 0., 0., 1.,\n       0., 2., 1., 0., 0., 0., 0., 0., 1., 0., 1., 0., 3., 0., 1., 1., 1.,\n       0., 2., 2., 0., 1., 0., 0., 1., 0., 0., 0., 1., 1., 1., 0., 1., 0.,\n       0., 0., 0., 1., 1., 0., 4., 0., 0., 2., 0., 0., 1., 0., 0., 2., 2.,\n       1., 0., 0., 3., 0., 0., 3., 2., 1., 2., 4., 0., 1., 0., 0., 0., 1.,\n       2., 0., 0., 4., 4., 0., 3., 0., 0., 4., 3., 1., 3., 1., 3., 0., 0.,\n       0., 0., 1., 0., 1., 0., 0., 0., 0., 2., 5., 1., 0., 2., 0., 4., 0.,\n       2., 0., 2., 1., 1., 0., 8., 2., 0., 1., 1., 0., 0., 0., 0., 0., 0.,\n       0., 4., 1., 0., 1., 0., 1., 3., 3., 1., 1., 0., 0., 5., 4., 0., 1.,\n       0., 0., 0., 1., 1., 0., 0., 0., 2., 0., 3., 0., 4., 0., 1., 1., 2.,\n       0., 0., 3., 2., 0., 0., 1., 0., 1., 4., 2., 0., 0., 2., 1., 1., 4.,\n       0., 0., 0., 0., 0., 2., 1., 0., 1., 0., 3., 0., 9., 0., 0., 0., 0.,\n       2., 0., 0., 1., 4., 0., 0., 1., 0., 0., 0., 0., 2., 2., 0., 2., 1.,\n       1., 3., 1., 0., 1., 1., 1., 0., 1., 0., 1., 3., 3., 1., 1., 4., 3.,\n       0., 0., 4., 2., 1., 0., 1., 0., 2., 1., 4., 1., 3., 3., 3., 0., 1.,\n       0., 2., 0., 0., 0., 3., 0., 0., 1., 0., 1., 1., 0., 1., 0., 2., 0.,\n       0., 3., 0., 3., 4., 2., 0., 0., 0., 1., 3., 0., 0., 2., 2., 1., 1.,\n       1., 1., 2., 1., 0., 1., 1., 0., 1., 0., 3., 0., 0., 0., 0., 0., 1.,\n       0., 0., 0., 0., 0., 2., 1., 1., 3., 1., 5., 0., 0., 0., 4., 2., 0.,\n       1., 1., 0., 0., 0., 1., 1., 0., 0., 5., 2., 0., 3., 0., 1., 0., 1.,\n       0., 1., 0., 1., 0., 0., 0., 0., 0., 0., 0., 2., 1., 2., 7., 2., 0.,\n       1., 2., 4., 2., 0., 1., 1., 0., 0., 2., 1., 6., 0., 1., 1., 0., 0.,\n       1., 1., 4., 2., 1., 0., 0., 0., 2., 0., 2., 2., 0., 5., 4., 6., 0.,\n       0., 3., 0., 1., 3., 0., 0., 0., 1., 3., 0., 2., 0., 0., 0., 5., 0.,\n       2., 1., 0., 0., 0., 1., 0., 2., 0., 2., 3., 1., 1., 0., 1., 0., 2.,\n       0., 3., 2., 4., 0., 2., 4., 7., 0., 0., 1., 0., 2., 0., 1., 2., 0.,\n       2., 2., 0., 0., 0., 0., 1., 0., 0., 0., 1., 1., 1., 4., 0., 0., 0.,\n       0., 1., 2., 2., 0., 0., 0., 1., 2., 1., 1., 0., 0., 0., 0., 2., 0.,\n       2., 0., 3., 1., 0., 2., 0.])"
     },
     "execution_count": 51,
     "metadata": {},
     "output_type": "execute_result"
    }
   ],
   "source": [
    "Y"
   ],
   "metadata": {
    "collapsed": false
   }
  },
  {
   "cell_type": "code",
   "execution_count": 52,
   "outputs": [
    {
     "data": {
      "text/plain": "(500,)"
     },
     "execution_count": 52,
     "metadata": {},
     "output_type": "execute_result"
    }
   ],
   "source": [
    "Y.shape"
   ],
   "metadata": {
    "collapsed": false
   }
  },
  {
   "cell_type": "code",
   "execution_count": 53,
   "outputs": [
    {
     "name": "stderr",
     "output_type": "stream",
     "text": [
      "/Users/yilingh/Desktop/PhD/SI_Codes/G_LASSO_Final/PoSI-GroupLASSO/env3/lib/python3.10/site-packages/regreg/smooth/glm.py:1054: RuntimeWarning: divide by zero encountered in log\n",
      "  loss_terms = - coef * ((counts - 1) * np.log(counts))\n"
     ]
    }
   ],
   "source": [
    "def estimate_hess():\n",
    "    loglike = rr.glm.poisson(X, counts=Y)\n",
    "    # For LASSO, this is the OLS solution on X_{E,U}\n",
    "    beta_full = restricted_estimator(loglike, np.array([True] * p))\n",
    "    W_H = np.diag(np.exp(X @ beta_full))\n",
    "    return X.T @ W_H @ X\n",
    "\n",
    "hess = estimate_hess()\n",
    "cov_rand = hess\n",
    "\n",
    "sigma_ = np.std(Y)\n",
    "weight_frac = 1.\n",
    "# weights = dict([(i, 0.5) for i in np.unique(groups)])\n",
    "weights = dict([(i, weight_frac * sigma_ * np.sqrt(2 * np.log(p))) for i in np.unique(groups)])\n",
    "\n",
    "conv = group_lasso_quasi.quasipoisson(X=X,\n",
    "                                      counts=Y,\n",
    "                                      groups=groups,\n",
    "                                      weights=weights,\n",
    "                                      useJacobian=True,\n",
    "                                      cov_rand=cov_rand)\n",
    "\n",
    "signs, _ = conv.fit()\n",
    "nonzero = (signs != 0)\n",
    "\n",
    "conv.setup_inference(dispersion=1)\n",
    "cov_score = conv._unscaled_cov_score\n",
    "target_spec = selected_targets_quasi(conv.loglike,\n",
    "                                             conv.observed_soln,\n",
    "                                             cov_score=cov_score,\n",
    "                                             dispersion=1)\n",
    "\n",
    "result,_ = conv.inference(target_spec,\n",
    "                        method='selective_MLE',\n",
    "                        level=0.9)\n",
    "\n",
    "pval = result['pvalue']\n",
    "intervals = np.asarray(result[['lower_confidence',\n",
    "                               'upper_confidence']])"
   ],
   "metadata": {
    "collapsed": false
   }
  },
  {
   "cell_type": "code",
   "execution_count": 54,
   "outputs": [
    {
     "name": "stdout",
     "output_type": "stream",
     "text": [
      "Selected Group Indices: [0, 3, 5, 6, 14, 42, 48, 49]\n"
     ]
    }
   ],
   "source": [
    "print(\"Selected Group Indices:\", conv._ordered_groups)"
   ],
   "metadata": {
    "collapsed": false
   }
  },
  {
   "cell_type": "code",
   "execution_count": 55,
   "outputs": [
    {
     "name": "stdout",
     "output_type": "stream",
     "text": [
      "0     0.074363\n",
      "1     0.987501\n",
      "2     0.100155\n",
      "3     0.000348\n",
      "4     0.039442\n",
      "5     0.008595\n",
      "6     0.099150\n",
      "7     0.049677\n",
      "8     0.723087\n",
      "9     0.958617\n",
      "10    0.162142\n",
      "11    0.374249\n",
      "12    0.089566\n",
      "13    0.974900\n",
      "14    0.366692\n",
      "15    0.317703\n",
      "16    0.581260\n",
      "17    0.230448\n",
      "18    0.668651\n",
      "19    0.024849\n",
      "20    0.336551\n",
      "21    0.154597\n",
      "22    0.279856\n",
      "23    0.555181\n",
      "24    0.977142\n",
      "25    0.092882\n",
      "26    0.097432\n",
      "27    0.283116\n",
      "28    0.313683\n",
      "29    0.632966\n",
      "30    0.367639\n",
      "31    0.649634\n",
      "Name: pvalue, dtype: float64\n"
     ]
    }
   ],
   "source": [
    "print(pval)"
   ],
   "metadata": {
    "collapsed": false
   }
  },
  {
   "cell_type": "code",
   "execution_count": 56,
   "outputs": [
    {
     "name": "stdout",
     "output_type": "stream",
     "text": [
      "[[ 5.26629948e-01  1.29440096e+01]\n",
      " [-4.49486979e+00  4.41005724e+00]\n",
      " [-2.77136865e-03  1.21417158e+01]\n",
      " [ 7.95918460e+00  2.15104121e+01]\n",
      " [-1.02370738e+01 -1.14600990e+00]\n",
      " [-1.33262581e+01 -3.06563978e+00]\n",
      " [-1.05781789e+01 -1.32840480e-02]\n",
      " [-1.23051516e+01 -1.08426499e+00]\n",
      " [-5.02164929e+00  3.24157561e+00]\n",
      " [-5.64479343e+00  6.01253905e+00]\n",
      " [-1.06007538e+01  8.60350917e-01]\n",
      " [-2.14653101e+00  7.19018881e+00]\n",
      " [-9.52839911e+00 -1.50617003e-01]\n",
      " [-4.81026796e+00  4.62969630e+00]\n",
      " [-1.92208959e+00  6.59771913e+00]\n",
      " [-1.68851988e+00  6.91462433e+00]\n",
      " [-6.32205809e+00  3.14695404e+00]\n",
      " [-1.21278930e+00  7.73981832e+00]\n",
      " [-8.75845502e+00  5.14158577e+00]\n",
      " [ 1.65176191e+00  1.07248923e+01]\n",
      " [-1.90293138e+00  7.25123532e+00]\n",
      " [-1.06429331e+01  7.67869126e-01]\n",
      " [-2.66371749e+00  1.28674430e+01]\n",
      " [-2.64191816e+00  5.59737867e+00]\n",
      " [-4.03170991e+00  3.89365334e+00]\n",
      " [ 9.92283950e-02  9.28558286e+00]\n",
      " [-9.51247476e+00 -3.62398648e-02]\n",
      " [-1.73949817e+00  8.27337383e+00]\n",
      " [-7.38443719e+00  1.77437767e+00]\n",
      " [-4.31170159e+00  7.83965274e+00]\n",
      " [-1.84813124e+00  6.32422025e+00]\n",
      " [-5.86478296e+00  3.32638967e+00]]\n"
     ]
    }
   ],
   "source": [
    "print(intervals)"
   ],
   "metadata": {
    "collapsed": false
   }
  },
  {
   "cell_type": "code",
   "execution_count": 57,
   "outputs": [
    {
     "name": "stdout",
     "output_type": "stream",
     "text": [
      "0      6.735320\n",
      "1     -0.042406\n",
      "2      6.069472\n",
      "3     14.734798\n",
      "4     -5.691542\n",
      "5     -8.195949\n",
      "6     -5.295731\n",
      "7     -6.694708\n",
      "8     -0.890037\n",
      "9      0.183873\n",
      "10    -4.870201\n",
      "11     2.521829\n",
      "12    -4.839508\n",
      "13    -0.090286\n",
      "14     2.337815\n",
      "15     2.613052\n",
      "16    -1.587552\n",
      "17     3.263515\n",
      "18    -1.808435\n",
      "19     6.188327\n",
      "20     2.674152\n",
      "21    -4.937532\n",
      "22     5.101863\n",
      "23     1.477730\n",
      "24    -0.069028\n",
      "25     4.692406\n",
      "26    -4.774357\n",
      "27     3.266938\n",
      "28    -2.805030\n",
      "29     1.763976\n",
      "30     2.238045\n",
      "31    -1.269197\n",
      "Name: MLE, dtype: float64\n"
     ]
    }
   ],
   "source": [
    "print(result['MLE'])"
   ],
   "metadata": {
    "collapsed": false
   }
  },
  {
   "cell_type": "code",
   "execution_count": 57,
   "outputs": [],
   "source": [],
   "metadata": {
    "collapsed": false
   }
  }
 ],
 "metadata": {
  "kernelspec": {
   "display_name": "Python 3",
   "language": "python",
   "name": "python3"
  },
  "language_info": {
   "codemirror_mode": {
    "name": "ipython",
    "version": 2
   },
   "file_extension": ".py",
   "mimetype": "text/x-python",
   "name": "python",
   "nbconvert_exporter": "python",
   "pygments_lexer": "ipython2",
   "version": "2.7.6"
  }
 },
 "nbformat": 4,
 "nbformat_minor": 0
}
