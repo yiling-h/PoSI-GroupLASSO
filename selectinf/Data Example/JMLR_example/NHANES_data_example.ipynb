{
 "cells": [
  {
   "cell_type": "code",
   "execution_count": 1,
   "metadata": {
    "collapsed": true,
    "ExecuteTime": {
     "end_time": "2024-09-23T03:26:55.574990Z",
     "start_time": "2024-09-23T03:26:55.452503Z"
    }
   },
   "outputs": [],
   "source": [
    "import numpy as np\n",
    "import pandas as pd\n",
    "import matplotlib.pyplot as plt\n",
    "\n",
    "from selectinf.base import selected_targets\n",
    "from selectinf.base import restricted_estimator\n",
    "import regreg.api as rr\n",
    "import scipy.stats\n",
    "from scipy.stats import norm as ndist\n",
    "\n",
    "from selectinf.group_lasso_query import (group_lasso,\n",
    "                                         split_group_lasso)"
   ]
  },
  {
   "cell_type": "markdown",
   "source": [
    "# Data Cleaning"
   ],
   "metadata": {
    "collapsed": false
   }
  },
  {
   "cell_type": "code",
   "execution_count": 2,
   "outputs": [],
   "source": [
    "data_raw = pd.read_csv(\"data_groups_dummy_encoded.csv\")"
   ],
   "metadata": {
    "collapsed": false,
    "ExecuteTime": {
     "end_time": "2024-09-23T03:26:56.233024Z",
     "start_time": "2024-09-23T03:26:56.098966Z"
    }
   }
  },
  {
   "cell_type": "code",
   "execution_count": 3,
   "outputs": [
    {
     "data": {
      "text/plain": "        SEQN  depressed  RIDAGEYR  INDFMPIR  BMXBMI  DBD895  DBD905  DBD910  \\\n0     109273          1        36      0.83    21.9       2       0       7   \n1     109274          0        68      1.20    30.2       0       0       0   \n2     109282          0        76      3.61    26.6       1       1       8   \n3     109292          0        58      1.60    30.5       2      10       3   \n4     109293          0        44      0.02    30.1       3       7       0   \n...      ...        ...       ...       ...     ...     ...     ...     ...   \n5980  124814          0        64      2.00    37.5       3       1       2   \n5981  124815          0        52      5.00    29.5       1       0       0   \n5982  124817          0        67      2.19    37.9       4       0       0   \n5983  124818          0        40      3.82    38.2       4       5       0   \n5984  124821          0        63      3.71    25.5       0       0       0   \n\n      RIDRETH1_Mexican_American  RIDRETH1_Other_Hispanic  ...  RIAGENDR_man  \\\n0                             0                        0  ...             1   \n1                             0                        0  ...             1   \n2                             0                        0  ...             1   \n3                             0                        1  ...             1   \n4                             0                        0  ...             1   \n...                         ...                      ...  ...           ...   \n5980                          0                        0  ...             1   \n5981                          0                        0  ...             1   \n5982                          1                        0  ...             0   \n5983                          0                        0  ...             1   \n5984                          0                        0  ...             1   \n\n      DMDBORN4_US  ALQ111_dummy  ALQ151_dummy  BPQ020_hypertension  \\\n0               1             1             0                    0   \n1               1             1             0                    1   \n2               1             1             0                    1   \n3               1             1             0                    1   \n4               1             1             1                    0   \n...           ...           ...           ...                  ...   \n5980            1             1             0                    0   \n5981            1             1             0                    0   \n5982            0             1             0                    0   \n5983            1             1             0                    0   \n5984            1             1             0                    1   \n\n      BPQ080_high_cholesterol  SMQ020_smoke  MCQ010_asthma  MCQ053_anemia  \\\n0                           0             1              0              0   \n1                           1             0              0              0   \n2                           1             1              0              1   \n3                           1             0              1              0   \n4                           0             0              0              0   \n...                       ...           ...            ...            ...   \n5980                        0             1              0              0   \n5981                        0             1              0              0   \n5982                        1             0              0              0   \n5983                        0             0              0              0   \n5984                        1             0              1              0   \n\n      MCQ092_blood_transfusion  \n0                            0  \n1                            0  \n2                            0  \n3                            0  \n4                            0  \n...                        ...  \n5980                         0  \n5981                         0  \n5982                         0  \n5983                         0  \n5984                         0  \n\n[5985 rows x 50 columns]",
      "text/html": "<div>\n<style scoped>\n    .dataframe tbody tr th:only-of-type {\n        vertical-align: middle;\n    }\n\n    .dataframe tbody tr th {\n        vertical-align: top;\n    }\n\n    .dataframe thead th {\n        text-align: right;\n    }\n</style>\n<table border=\"1\" class=\"dataframe\">\n  <thead>\n    <tr style=\"text-align: right;\">\n      <th></th>\n      <th>SEQN</th>\n      <th>depressed</th>\n      <th>RIDAGEYR</th>\n      <th>INDFMPIR</th>\n      <th>BMXBMI</th>\n      <th>DBD895</th>\n      <th>DBD905</th>\n      <th>DBD910</th>\n      <th>RIDRETH1_Mexican_American</th>\n      <th>RIDRETH1_Other_Hispanic</th>\n      <th>...</th>\n      <th>RIAGENDR_man</th>\n      <th>DMDBORN4_US</th>\n      <th>ALQ111_dummy</th>\n      <th>ALQ151_dummy</th>\n      <th>BPQ020_hypertension</th>\n      <th>BPQ080_high_cholesterol</th>\n      <th>SMQ020_smoke</th>\n      <th>MCQ010_asthma</th>\n      <th>MCQ053_anemia</th>\n      <th>MCQ092_blood_transfusion</th>\n    </tr>\n  </thead>\n  <tbody>\n    <tr>\n      <th>0</th>\n      <td>109273</td>\n      <td>1</td>\n      <td>36</td>\n      <td>0.83</td>\n      <td>21.9</td>\n      <td>2</td>\n      <td>0</td>\n      <td>7</td>\n      <td>0</td>\n      <td>0</td>\n      <td>...</td>\n      <td>1</td>\n      <td>1</td>\n      <td>1</td>\n      <td>0</td>\n      <td>0</td>\n      <td>0</td>\n      <td>1</td>\n      <td>0</td>\n      <td>0</td>\n      <td>0</td>\n    </tr>\n    <tr>\n      <th>1</th>\n      <td>109274</td>\n      <td>0</td>\n      <td>68</td>\n      <td>1.20</td>\n      <td>30.2</td>\n      <td>0</td>\n      <td>0</td>\n      <td>0</td>\n      <td>0</td>\n      <td>0</td>\n      <td>...</td>\n      <td>1</td>\n      <td>1</td>\n      <td>1</td>\n      <td>0</td>\n      <td>1</td>\n      <td>1</td>\n      <td>0</td>\n      <td>0</td>\n      <td>0</td>\n      <td>0</td>\n    </tr>\n    <tr>\n      <th>2</th>\n      <td>109282</td>\n      <td>0</td>\n      <td>76</td>\n      <td>3.61</td>\n      <td>26.6</td>\n      <td>1</td>\n      <td>1</td>\n      <td>8</td>\n      <td>0</td>\n      <td>0</td>\n      <td>...</td>\n      <td>1</td>\n      <td>1</td>\n      <td>1</td>\n      <td>0</td>\n      <td>1</td>\n      <td>1</td>\n      <td>1</td>\n      <td>0</td>\n      <td>1</td>\n      <td>0</td>\n    </tr>\n    <tr>\n      <th>3</th>\n      <td>109292</td>\n      <td>0</td>\n      <td>58</td>\n      <td>1.60</td>\n      <td>30.5</td>\n      <td>2</td>\n      <td>10</td>\n      <td>3</td>\n      <td>0</td>\n      <td>1</td>\n      <td>...</td>\n      <td>1</td>\n      <td>1</td>\n      <td>1</td>\n      <td>0</td>\n      <td>1</td>\n      <td>1</td>\n      <td>0</td>\n      <td>1</td>\n      <td>0</td>\n      <td>0</td>\n    </tr>\n    <tr>\n      <th>4</th>\n      <td>109293</td>\n      <td>0</td>\n      <td>44</td>\n      <td>0.02</td>\n      <td>30.1</td>\n      <td>3</td>\n      <td>7</td>\n      <td>0</td>\n      <td>0</td>\n      <td>0</td>\n      <td>...</td>\n      <td>1</td>\n      <td>1</td>\n      <td>1</td>\n      <td>1</td>\n      <td>0</td>\n      <td>0</td>\n      <td>0</td>\n      <td>0</td>\n      <td>0</td>\n      <td>0</td>\n    </tr>\n    <tr>\n      <th>...</th>\n      <td>...</td>\n      <td>...</td>\n      <td>...</td>\n      <td>...</td>\n      <td>...</td>\n      <td>...</td>\n      <td>...</td>\n      <td>...</td>\n      <td>...</td>\n      <td>...</td>\n      <td>...</td>\n      <td>...</td>\n      <td>...</td>\n      <td>...</td>\n      <td>...</td>\n      <td>...</td>\n      <td>...</td>\n      <td>...</td>\n      <td>...</td>\n      <td>...</td>\n      <td>...</td>\n    </tr>\n    <tr>\n      <th>5980</th>\n      <td>124814</td>\n      <td>0</td>\n      <td>64</td>\n      <td>2.00</td>\n      <td>37.5</td>\n      <td>3</td>\n      <td>1</td>\n      <td>2</td>\n      <td>0</td>\n      <td>0</td>\n      <td>...</td>\n      <td>1</td>\n      <td>1</td>\n      <td>1</td>\n      <td>0</td>\n      <td>0</td>\n      <td>0</td>\n      <td>1</td>\n      <td>0</td>\n      <td>0</td>\n      <td>0</td>\n    </tr>\n    <tr>\n      <th>5981</th>\n      <td>124815</td>\n      <td>0</td>\n      <td>52</td>\n      <td>5.00</td>\n      <td>29.5</td>\n      <td>1</td>\n      <td>0</td>\n      <td>0</td>\n      <td>0</td>\n      <td>0</td>\n      <td>...</td>\n      <td>1</td>\n      <td>1</td>\n      <td>1</td>\n      <td>0</td>\n      <td>0</td>\n      <td>0</td>\n      <td>1</td>\n      <td>0</td>\n      <td>0</td>\n      <td>0</td>\n    </tr>\n    <tr>\n      <th>5982</th>\n      <td>124817</td>\n      <td>0</td>\n      <td>67</td>\n      <td>2.19</td>\n      <td>37.9</td>\n      <td>4</td>\n      <td>0</td>\n      <td>0</td>\n      <td>1</td>\n      <td>0</td>\n      <td>...</td>\n      <td>0</td>\n      <td>0</td>\n      <td>1</td>\n      <td>0</td>\n      <td>0</td>\n      <td>1</td>\n      <td>0</td>\n      <td>0</td>\n      <td>0</td>\n      <td>0</td>\n    </tr>\n    <tr>\n      <th>5983</th>\n      <td>124818</td>\n      <td>0</td>\n      <td>40</td>\n      <td>3.82</td>\n      <td>38.2</td>\n      <td>4</td>\n      <td>5</td>\n      <td>0</td>\n      <td>0</td>\n      <td>0</td>\n      <td>...</td>\n      <td>1</td>\n      <td>1</td>\n      <td>1</td>\n      <td>0</td>\n      <td>0</td>\n      <td>0</td>\n      <td>0</td>\n      <td>0</td>\n      <td>0</td>\n      <td>0</td>\n    </tr>\n    <tr>\n      <th>5984</th>\n      <td>124821</td>\n      <td>0</td>\n      <td>63</td>\n      <td>3.71</td>\n      <td>25.5</td>\n      <td>0</td>\n      <td>0</td>\n      <td>0</td>\n      <td>0</td>\n      <td>0</td>\n      <td>...</td>\n      <td>1</td>\n      <td>1</td>\n      <td>1</td>\n      <td>0</td>\n      <td>1</td>\n      <td>1</td>\n      <td>0</td>\n      <td>1</td>\n      <td>0</td>\n      <td>0</td>\n    </tr>\n  </tbody>\n</table>\n<p>5985 rows × 50 columns</p>\n</div>"
     },
     "execution_count": 3,
     "metadata": {},
     "output_type": "execute_result"
    }
   ],
   "source": [
    "data_raw"
   ],
   "metadata": {
    "collapsed": false,
    "ExecuteTime": {
     "end_time": "2024-09-23T03:26:56.247231Z",
     "start_time": "2024-09-23T03:26:56.216970Z"
    }
   }
  },
  {
   "cell_type": "code",
   "execution_count": 4,
   "outputs": [],
   "source": [
    "DBQ197 = data_raw[[\"DBQ197_never\",\"DBQ197_often\",\n",
    "        \"DBQ197_rarely\", \"DBQ197_sometimes\"]].to_numpy()"
   ],
   "metadata": {
    "collapsed": false,
    "ExecuteTime": {
     "end_time": "2024-09-23T03:26:56.263626Z",
     "start_time": "2024-09-23T03:26:56.232324Z"
    }
   }
  },
  {
   "cell_type": "code",
   "execution_count": 5,
   "outputs": [
    {
     "data": {
      "text/plain": "0"
     },
     "execution_count": 5,
     "metadata": {},
     "output_type": "execute_result"
    }
   ],
   "source": [
    "(data_raw[\"ALQ111_dummy\"] != 1).sum()"
   ],
   "metadata": {
    "collapsed": false,
    "ExecuteTime": {
     "end_time": "2024-09-23T03:26:56.449154Z",
     "start_time": "2024-09-23T03:26:56.404907Z"
    }
   }
  },
  {
   "cell_type": "code",
   "execution_count": 6,
   "outputs": [],
   "source": [
    "data_X = data_raw[data_raw.columns[2:50]].drop(columns=\"ALQ111_dummy\")"
   ],
   "metadata": {
    "collapsed": false,
    "ExecuteTime": {
     "end_time": "2024-09-23T03:26:56.638117Z",
     "start_time": "2024-09-23T03:26:56.442957Z"
    }
   }
  },
  {
   "cell_type": "code",
   "execution_count": 7,
   "outputs": [
    {
     "data": {
      "text/plain": "Index(['RIDAGEYR', 'INDFMPIR', 'BMXBMI', 'DBD895', 'DBD905', 'DBD910',\n       'RIDRETH1_Mexican_American', 'RIDRETH1_Other_Hispanic',\n       'RIDRETH1_Non_Hispanic_White', 'RIDRETH1_Non_Hispanic_Black',\n       'DMDEDUC2_1', 'DMDEDUC2_2', 'DMDEDUC2_3', 'DMDEDUC2_4',\n       'DMDMARTZ_married_living_with', 'DMDMARTZ_sep', 'INDFMMPC_1',\n       'INDFMMPC_2', 'ALQ121_0', 'ALQ121_1', 'ALQ121_2', 'ALQ121_3',\n       'ALQ121_4', 'ALQ121_5', 'ALQ121_6', 'ALQ121_7', 'ALQ121_8', 'ALQ121_9',\n       'DBQ700_1', 'DBQ700_2', 'DBQ700_3', 'DBQ700_4', 'DBQ197_never',\n       'DBQ197_rarely', 'DBQ197_sometimes', 'DBQ197_often', 'DIQ010_diabetes',\n       'DIQ010_diabetes_borderline', 'RIAGENDR_man', 'DMDBORN4_US',\n       'ALQ151_dummy', 'BPQ020_hypertension', 'BPQ080_high_cholesterol',\n       'SMQ020_smoke', 'MCQ010_asthma', 'MCQ053_anemia',\n       'MCQ092_blood_transfusion'],\n      dtype='object')"
     },
     "execution_count": 7,
     "metadata": {},
     "output_type": "execute_result"
    }
   ],
   "source": [
    "data_X.columns"
   ],
   "metadata": {
    "collapsed": false,
    "ExecuteTime": {
     "end_time": "2024-09-23T03:26:56.730261Z",
     "start_time": "2024-09-23T03:26:56.532903Z"
    }
   }
  },
  {
   "cell_type": "code",
   "execution_count": 8,
   "outputs": [],
   "source": [
    "data_X = data_X.to_numpy()"
   ],
   "metadata": {
    "collapsed": false,
    "ExecuteTime": {
     "end_time": "2024-09-23T03:26:56.888599Z",
     "start_time": "2024-09-23T03:26:56.625656Z"
    }
   }
  },
  {
   "cell_type": "code",
   "execution_count": 9,
   "outputs": [
    {
     "data": {
      "text/plain": "47"
     },
     "execution_count": 9,
     "metadata": {},
     "output_type": "execute_result"
    }
   ],
   "source": [
    "np.linalg.matrix_rank(data_X)"
   ],
   "metadata": {
    "collapsed": false,
    "ExecuteTime": {
     "end_time": "2024-09-23T03:26:57.249751Z",
     "start_time": "2024-09-23T03:26:56.753390Z"
    }
   }
  },
  {
   "cell_type": "code",
   "execution_count": 10,
   "outputs": [
    {
     "data": {
      "text/plain": "(5985, 47)"
     },
     "execution_count": 10,
     "metadata": {},
     "output_type": "execute_result"
    }
   ],
   "source": [
    "data_X.shape"
   ],
   "metadata": {
    "collapsed": false,
    "ExecuteTime": {
     "end_time": "2024-09-23T03:26:57.370596Z",
     "start_time": "2024-09-23T03:26:56.866642Z"
    }
   }
  },
  {
   "cell_type": "code",
   "execution_count": 11,
   "outputs": [],
   "source": [
    "design_X = np.zeros((5985,48))\n",
    "design_X[:,0] = np.ones((5985,))\n",
    "design_X[:,1:48] = data_X"
   ],
   "metadata": {
    "collapsed": false,
    "ExecuteTime": {
     "end_time": "2024-09-23T03:26:57.475733Z",
     "start_time": "2024-09-23T03:26:57.015072Z"
    }
   }
  },
  {
   "cell_type": "code",
   "execution_count": 12,
   "outputs": [
    {
     "data": {
      "text/plain": "48"
     },
     "execution_count": 12,
     "metadata": {},
     "output_type": "execute_result"
    }
   ],
   "source": [
    "np.linalg.matrix_rank(design_X)"
   ],
   "metadata": {
    "collapsed": false,
    "ExecuteTime": {
     "end_time": "2024-09-23T03:26:57.568039Z",
     "start_time": "2024-09-23T03:26:57.052507Z"
    }
   }
  },
  {
   "cell_type": "code",
   "execution_count": 13,
   "outputs": [
    {
     "data": {
      "text/plain": "(5985, 48)"
     },
     "execution_count": 13,
     "metadata": {},
     "output_type": "execute_result"
    }
   ],
   "source": [
    "design_X.shape"
   ],
   "metadata": {
    "collapsed": false,
    "ExecuteTime": {
     "end_time": "2024-09-23T03:26:57.664876Z",
     "start_time": "2024-09-23T03:26:57.098333Z"
    }
   }
  },
  {
   "cell_type": "code",
   "execution_count": 14,
   "outputs": [
    {
     "data": {
      "text/plain": "array([[ 1.  , 36.  ,  0.83, ...,  0.  ,  0.  ,  0.  ],\n       [ 1.  , 68.  ,  1.2 , ...,  0.  ,  0.  ,  0.  ],\n       [ 1.  , 76.  ,  3.61, ...,  0.  ,  1.  ,  0.  ],\n       ...,\n       [ 1.  , 67.  ,  2.19, ...,  0.  ,  0.  ,  0.  ],\n       [ 1.  , 40.  ,  3.82, ...,  0.  ,  0.  ,  0.  ],\n       [ 1.  , 63.  ,  3.71, ...,  1.  ,  0.  ,  0.  ]])"
     },
     "execution_count": 14,
     "metadata": {},
     "output_type": "execute_result"
    }
   ],
   "source": [
    "design_X"
   ],
   "metadata": {
    "collapsed": false,
    "ExecuteTime": {
     "end_time": "2024-09-23T03:26:57.773126Z",
     "start_time": "2024-09-23T03:26:57.108822Z"
    }
   }
  },
  {
   "cell_type": "markdown",
   "source": [
    "# Construct Groups"
   ],
   "metadata": {
    "collapsed": false
   }
  },
  {
   "cell_type": "code",
   "execution_count": 15,
   "outputs": [
    {
     "data": {
      "text/plain": "Index(['RIDAGEYR', 'INDFMPIR', 'BMXBMI', 'DBD895', 'DBD905', 'DBD910',\n       'RIDRETH1_Mexican_American', 'RIDRETH1_Other_Hispanic',\n       'RIDRETH1_Non_Hispanic_White', 'RIDRETH1_Non_Hispanic_Black',\n       'DMDEDUC2_1', 'DMDEDUC2_2', 'DMDEDUC2_3', 'DMDEDUC2_4',\n       'DMDMARTZ_married_living_with', 'DMDMARTZ_sep', 'INDFMMPC_1',\n       'INDFMMPC_2', 'ALQ121_0', 'ALQ121_1', 'ALQ121_2', 'ALQ121_3',\n       'ALQ121_4', 'ALQ121_5', 'ALQ121_6', 'ALQ121_7', 'ALQ121_8', 'ALQ121_9',\n       'DBQ700_1', 'DBQ700_2', 'DBQ700_3', 'DBQ700_4', 'DBQ197_never',\n       'DBQ197_rarely', 'DBQ197_sometimes', 'DBQ197_often', 'DIQ010_diabetes',\n       'DIQ010_diabetes_borderline', 'RIAGENDR_man', 'DMDBORN4_US',\n       'ALQ151_dummy', 'BPQ020_hypertension', 'BPQ080_high_cholesterol',\n       'SMQ020_smoke', 'MCQ010_asthma', 'MCQ053_anemia',\n       'MCQ092_blood_transfusion'],\n      dtype='object')"
     },
     "execution_count": 15,
     "metadata": {},
     "output_type": "execute_result"
    }
   ],
   "source": [
    "data_raw[data_raw.columns[2:50]].drop(columns=\"ALQ111_dummy\").columns"
   ],
   "metadata": {
    "collapsed": false,
    "ExecuteTime": {
     "end_time": "2024-09-23T03:26:58.058823Z",
     "start_time": "2024-09-23T03:26:57.367697Z"
    }
   }
  },
  {
   "cell_type": "code",
   "execution_count": 16,
   "outputs": [],
   "source": [
    "groups = np.zeros((48,))\n",
    "groups[0] = int(0) # Intercept\n",
    "# Singletons\n",
    "for i in range(1,7):\n",
    "    groups[i] = int(i)\n",
    "# RIDRETH1\n",
    "groups[7:11] = int(7)\n",
    "# DMDEDUC2\n",
    "groups[11:15] = int(8)\n",
    "# DMDMARTZ\n",
    "groups[15:17] = int(9)\n",
    "# INDFMMPC\n",
    "groups[17:19] = int(10)\n",
    "# ALQ121\n",
    "groups[19:29] = int(11)\n",
    "# DBQ700\n",
    "groups[29:33] = int(12)\n",
    "# DBQ197\n",
    "groups[33:37] = int(13)\n",
    "# DIQ010\n",
    "groups[37:39] = int(14)\n",
    "# Singletons\n",
    "for i in range(39,48):\n",
    "    groups[i] = int(i-24)\n",
    "\n",
    "groups = groups.astype(int)"
   ],
   "metadata": {
    "collapsed": false,
    "ExecuteTime": {
     "end_time": "2024-09-23T03:26:58.317149Z",
     "start_time": "2024-09-23T03:26:57.466720Z"
    }
   }
  },
  {
   "cell_type": "code",
   "execution_count": 17,
   "outputs": [],
   "source": [
    "def calc_avg_group_size(groups):\n",
    "    sizes = []\n",
    "    for g in range(np.max(groups)+1):\n",
    "        g_flag = (groups == g)\n",
    "        sizes.append(g_flag.sum())\n",
    "\n",
    "    return sizes, np.mean(sizes)"
   ],
   "metadata": {
    "collapsed": false,
    "ExecuteTime": {
     "end_time": "2024-09-23T03:26:58.317262Z",
     "start_time": "2024-09-23T03:26:57.469559Z"
    }
   }
  },
  {
   "cell_type": "code",
   "execution_count": 18,
   "outputs": [],
   "source": [
    "sizes, avg_sizes = calc_avg_group_size(groups)"
   ],
   "metadata": {
    "collapsed": false,
    "ExecuteTime": {
     "end_time": "2024-09-23T03:26:58.333050Z",
     "start_time": "2024-09-23T03:26:57.565556Z"
    }
   }
  },
  {
   "cell_type": "code",
   "execution_count": 19,
   "outputs": [],
   "source": [
    "col_names = data_raw[data_raw.columns[2:50]].drop(columns=\"ALQ111_dummy\").columns.values.tolist()\n",
    "col_names = ['Intercept'] + col_names"
   ],
   "metadata": {
    "collapsed": false,
    "ExecuteTime": {
     "end_time": "2024-09-23T03:26:58.344408Z",
     "start_time": "2024-09-23T03:26:57.660554Z"
    }
   }
  },
  {
   "cell_type": "code",
   "execution_count": 20,
   "outputs": [
    {
     "data": {
      "text/plain": "          0         1         2       3       4       5       6   \\\n0          0         1         2       3       4       5       6   \n1  Intercept  RIDAGEYR  INDFMPIR  BMXBMI  DBD895  DBD905  DBD910   \n\n                          7                        8   \\\n0                          7                        7   \n1  RIDRETH1_Mexican_American  RIDRETH1_Other_Hispanic   \n\n                            9   ...                          38            39  \\\n0                            7  ...                          14            15   \n1  RIDRETH1_Non_Hispanic_White  ...  DIQ010_diabetes_borderline  RIAGENDR_man   \n\n            40            41                   42                       43  \\\n0           16            17                   18                       19   \n1  DMDBORN4_US  ALQ151_dummy  BPQ020_hypertension  BPQ080_high_cholesterol   \n\n             44             45             46                        47  \n0            20             21             22                        23  \n1  SMQ020_smoke  MCQ010_asthma  MCQ053_anemia  MCQ092_blood_transfusion  \n\n[2 rows x 48 columns]",
      "text/html": "<div>\n<style scoped>\n    .dataframe tbody tr th:only-of-type {\n        vertical-align: middle;\n    }\n\n    .dataframe tbody tr th {\n        vertical-align: top;\n    }\n\n    .dataframe thead th {\n        text-align: right;\n    }\n</style>\n<table border=\"1\" class=\"dataframe\">\n  <thead>\n    <tr style=\"text-align: right;\">\n      <th></th>\n      <th>0</th>\n      <th>1</th>\n      <th>2</th>\n      <th>3</th>\n      <th>4</th>\n      <th>5</th>\n      <th>6</th>\n      <th>7</th>\n      <th>8</th>\n      <th>9</th>\n      <th>...</th>\n      <th>38</th>\n      <th>39</th>\n      <th>40</th>\n      <th>41</th>\n      <th>42</th>\n      <th>43</th>\n      <th>44</th>\n      <th>45</th>\n      <th>46</th>\n      <th>47</th>\n    </tr>\n  </thead>\n  <tbody>\n    <tr>\n      <th>0</th>\n      <td>0</td>\n      <td>1</td>\n      <td>2</td>\n      <td>3</td>\n      <td>4</td>\n      <td>5</td>\n      <td>6</td>\n      <td>7</td>\n      <td>7</td>\n      <td>7</td>\n      <td>...</td>\n      <td>14</td>\n      <td>15</td>\n      <td>16</td>\n      <td>17</td>\n      <td>18</td>\n      <td>19</td>\n      <td>20</td>\n      <td>21</td>\n      <td>22</td>\n      <td>23</td>\n    </tr>\n    <tr>\n      <th>1</th>\n      <td>Intercept</td>\n      <td>RIDAGEYR</td>\n      <td>INDFMPIR</td>\n      <td>BMXBMI</td>\n      <td>DBD895</td>\n      <td>DBD905</td>\n      <td>DBD910</td>\n      <td>RIDRETH1_Mexican_American</td>\n      <td>RIDRETH1_Other_Hispanic</td>\n      <td>RIDRETH1_Non_Hispanic_White</td>\n      <td>...</td>\n      <td>DIQ010_diabetes_borderline</td>\n      <td>RIAGENDR_man</td>\n      <td>DMDBORN4_US</td>\n      <td>ALQ151_dummy</td>\n      <td>BPQ020_hypertension</td>\n      <td>BPQ080_high_cholesterol</td>\n      <td>SMQ020_smoke</td>\n      <td>MCQ010_asthma</td>\n      <td>MCQ053_anemia</td>\n      <td>MCQ092_blood_transfusion</td>\n    </tr>\n  </tbody>\n</table>\n<p>2 rows × 48 columns</p>\n</div>"
     },
     "execution_count": 20,
     "metadata": {},
     "output_type": "execute_result"
    }
   ],
   "source": [
    "# Sanity check for groupings\n",
    "pd.DataFrame([groups,col_names])"
   ],
   "metadata": {
    "collapsed": false,
    "ExecuteTime": {
     "end_time": "2024-09-23T03:26:58.359117Z",
     "start_time": "2024-09-23T03:26:57.776570Z"
    }
   }
  },
  {
   "cell_type": "code",
   "execution_count": 21,
   "outputs": [],
   "source": [
    "n,p = design_X.shape\n",
    "scaling_cts = np.ones((p,))\n",
    "scaling_cts[1:7] = design_X.std(0)[1:7]\n",
    "cts_logical = np.zeros((p,))\n",
    "cts_logical[1:7] = 1."
   ],
   "metadata": {
    "collapsed": false,
    "ExecuteTime": {
     "end_time": "2024-09-23T03:26:58.383710Z",
     "start_time": "2024-09-23T03:26:57.868618Z"
    }
   }
  },
  {
   "cell_type": "code",
   "execution_count": 22,
   "outputs": [
    {
     "name": "stdout",
     "output_type": "stream",
     "text": [
      "48\n",
      "48\n",
      "48\n"
     ]
    }
   ],
   "source": [
    "print(np.linalg.matrix_rank(design_X))\n",
    "scaling = design_X.std(0) * np.sqrt(n)\n",
    "scaling[0] = np.sqrt(n)\n",
    "scaling[7:p] = np.sqrt(n)\n",
    "\n",
    "X_standardized = design_X - (cts_logical * design_X.mean(axis = 0))\n",
    "print(np.linalg.matrix_rank(X_standardized))\n",
    "X_standardized = X_standardized / scaling[None, :]\n",
    "print(np.linalg.matrix_rank(X_standardized))"
   ],
   "metadata": {
    "collapsed": false,
    "ExecuteTime": {
     "end_time": "2024-09-23T03:26:58.408523Z",
     "start_time": "2024-09-23T03:26:58.028066Z"
    }
   }
  },
  {
   "cell_type": "code",
   "execution_count": 23,
   "outputs": [
    {
     "data": {
      "text/plain": "array([[0.        , 0.        , 0.        ],\n       [0.        , 0.        , 0.        ],\n       [0.        , 0.01292611, 0.        ],\n       [0.        , 0.        , 0.        ],\n       [0.        , 0.        , 0.        ],\n       [0.        , 0.        , 0.        ],\n       [0.        , 0.        , 0.        ],\n       [0.        , 0.        , 0.        ]])"
     },
     "execution_count": 23,
     "metadata": {},
     "output_type": "execute_result"
    }
   ],
   "source": [
    "X_standardized[10:18,45:50]"
   ],
   "metadata": {
    "collapsed": false,
    "ExecuteTime": {
     "end_time": "2024-09-23T03:26:58.408695Z",
     "start_time": "2024-09-23T03:26:58.109621Z"
    }
   }
  },
  {
   "cell_type": "markdown",
   "source": [
    "# Inference Tools"
   ],
   "metadata": {
    "collapsed": false
   }
  },
  {
   "cell_type": "code",
   "execution_count": 24,
   "outputs": [],
   "source": [
    "def group_p_val(groups, nonzero, info_inv, MLE, colnames):\n",
    "    nonzero_idx = np.unique(groups[nonzero])\n",
    "\n",
    "    MLE_full = np.zeros((nonzero.shape[0],))\n",
    "    info_inv_full = np.zeros((nonzero.shape[0], nonzero.shape[0]))\n",
    "    info_full = np.zeros((nonzero.shape[0], nonzero.shape[0]))\n",
    "\n",
    "    MLE_full[nonzero] = MLE\n",
    "    info_inv_full[np.ix_(nonzero, nonzero)] = info_inv\n",
    "    info = np.linalg.inv(info_inv)\n",
    "    info_full[np.ix_(nonzero, nonzero)] = info\n",
    "\n",
    "    p_vals = {}\n",
    "\n",
    "    for g in nonzero_idx:\n",
    "        g_idx = groups == g\n",
    "        MLE_g = MLE_full[g_idx]\n",
    "\n",
    "        info_g = info_full[g_idx][:, g_idx]\n",
    "        info_inv_g = info_inv_full[g_idx][:, g_idx]\n",
    "\n",
    "        df_g = g_idx.sum()\n",
    "\n",
    "        if df_g == 1:\n",
    "            pivot = (MLE_g ** 2 / info_inv_g)[0][0]\n",
    "\n",
    "        else:\n",
    "            pivot = MLE_g.T @ info_g @ MLE_g\n",
    "\n",
    "        p_val = scipy.stats.chi2.sf(x=pivot, df=df_g)\n",
    "\n",
    "        #print(\"Group Index:\", g)\n",
    "        #print(\"Variables:\", np.asarray(col_names)[g_idx])\n",
    "        #print(\"P-Value:\", p_val)\n",
    "        p_vals[g] = (p_val)\n",
    "\n",
    "    return p_vals"
   ],
   "metadata": {
    "collapsed": false,
    "ExecuteTime": {
     "end_time": "2024-09-23T03:26:58.421281Z",
     "start_time": "2024-09-23T03:26:58.310302Z"
    }
   }
  },
  {
   "cell_type": "code",
   "execution_count": 25,
   "outputs": [],
   "source": [
    "from scipy.linalg import qr\n",
    "def rank_deficiency_qr(A, tol=None):\n",
    "    # Perform QR decomposition with column pivoting\n",
    "    Q, R, P = qr(A, mode='economic', pivoting=True)\n",
    "    # If tolerance is not provided, use a default one based on numerical precision\n",
    "    if tol is None:\n",
    "        tol = np.max(A.shape) * np.abs(np.diag(R)).max() * np.finfo(R.dtype).eps\n",
    "    # Rank is determined by the number of diagonal elements larger than the tolerance\n",
    "    rank = np.sum(np.abs(np.diag(R)) > tol)\n",
    "    # Rank deficiency is the difference between the matrix size and its rank\n",
    "    rank_deficiency = A.shape[1] - rank\n",
    "    return rank_deficiency"
   ],
   "metadata": {
    "collapsed": false,
    "ExecuteTime": {
     "end_time": "2024-09-23T03:26:58.673891Z",
     "start_time": "2024-09-23T03:26:58.627533Z"
    }
   }
  },
  {
   "cell_type": "code",
   "execution_count": 26,
   "outputs": [],
   "source": [
    "def naive_inference(X, Y, n, p, groups, group_sizes,\n",
    "                    weight_frac=1. / np.sqrt(avg_sizes),\n",
    "                    level=0.9, select_only=False):\n",
    "    # Selection\n",
    "    p = X.shape[1]\n",
    "    sigma_ = np.std(Y)\n",
    "    # weights = dict([(i, 0.5) for i in np.unique(groups)])\n",
    "    weights = dict(\n",
    "        [(i, weight_frac * np.sqrt(group_sizes[i]) * sigma_ * np.sqrt(2 * np.log(p))) for i in np.unique(groups)])\n",
    "\n",
    "    conv = group_lasso.logistic(X=X,\n",
    "                                successes=Y,\n",
    "                                trials=np.ones(n),\n",
    "                                groups=groups,\n",
    "                                weights=weights,\n",
    "                                useJacobian=True,\n",
    "                                perturb=np.zeros(p),\n",
    "                                ridge_term=0.)\n",
    "\n",
    "    signs, _ = conv.fit()\n",
    "    # print(\"signs\",  signs)\n",
    "    nonzero = signs != 0\n",
    "\n",
    "    if nonzero.sum() > 0:\n",
    "        if select_only:\n",
    "            return conv\n",
    "\n",
    "        # E: nonzero flag\n",
    "        X_E = X[:, nonzero]\n",
    "\n",
    "        # Solve for the unpenalized MLE\n",
    "        def pi_hess(x):\n",
    "            return np.exp(x) / (1 + np.exp(x)) ** 2\n",
    "\n",
    "        loglike = rr.glm.logistic(X, successes=Y, trials=np.ones(n))\n",
    "        # For LASSO, this is the OLS solution on X_{E,U}\n",
    "        beta_MLE = restricted_estimator(loglike, nonzero)\n",
    "\n",
    "        # Calculation the asymptotic covariance of the MLE\n",
    "        W = np.diag(pi_hess(X_E @ beta_MLE))\n",
    "\n",
    "        f_info = X_E.T @ W @ X_E\n",
    "        cov = np.linalg.inv(f_info)\n",
    "\n",
    "        # Standard errors\n",
    "        sd = np.sqrt(np.diag(cov))\n",
    "\n",
    "        # Normal quantiles\n",
    "        z_low = scipy.stats.norm.ppf((1 - level) / 2)\n",
    "        z_up = scipy.stats.norm.ppf(1 - (1 - level) / 2)\n",
    "        assert np.abs(np.abs(z_low) - np.abs(z_up)) < 10e-6\n",
    "\n",
    "        # Construct confidence intervals\n",
    "        intervals_low = beta_MLE + z_low * sd\n",
    "        intervals_up = beta_MLE + z_up * sd\n",
    "        intervals = np.asarray([intervals_low, intervals_up]).T\n",
    "\n",
    "        # p-values\n",
    "        Z_scores = beta_MLE / sd\n",
    "        cdf_vals = ndist.cdf(Z_scores)\n",
    "        pvalues = []\n",
    "        for cdf in cdf_vals:\n",
    "            pvalues.append(2 * min(cdf, 1 - cdf))\n",
    "\n",
    "        group_pvals = group_p_val(groups, nonzero, cov, beta_MLE, col_names)\n",
    "\n",
    "        return beta_MLE, intervals, pvalues, nonzero, group_pvals\n",
    "\n",
    "    # If no variable selected, no inference\n",
    "    return None, None, None, None, None"
   ],
   "metadata": {
    "collapsed": false,
    "ExecuteTime": {
     "end_time": "2024-09-23T03:26:58.797041Z",
     "start_time": "2024-09-23T03:26:58.758445Z"
    }
   }
  },
  {
   "cell_type": "code",
   "execution_count": 27,
   "outputs": [],
   "source": [
    "def randomized_inference(X, Y, n, p, groups, group_sizes,\n",
    "                         weight_frac=1. / np.sqrt(avg_sizes),\n",
    "                         proportion=0.67,\n",
    "                         randomizer_scale=None):\n",
    "    hess = None\n",
    "    if randomizer_scale is None:\n",
    "        # Estimate randomizer covariance if not using isotropic randomization\n",
    "        def estimate_hess():\n",
    "            loglike = rr.glm.logistic(X, successes=Y, trials=np.ones(n))\n",
    "            # For LASSO, this is the OLS solution on X_{E,U}\n",
    "            beta_full = restricted_estimator(loglike, np.array([True] * p))\n",
    "            def pi_hess(x):\n",
    "                return np.exp(x) / (1 + np.exp(x)) ** 2\n",
    "\n",
    "            # Calculation the asymptotic covariance of the MLE\n",
    "            W = np.diag(pi_hess(X @ beta_full))\n",
    "\n",
    "            return X.T @ W @ X * (1 - proportion) / proportion\n",
    "        hess = estimate_hess()\n",
    "\n",
    "    # Setup tuning parameters\n",
    "    sigma_ = np.std(Y)\n",
    "    weights = dict([(i, weight_frac * np.sqrt(group_sizes[i]) * sigma_ * np.sqrt(2 * np.log(p))) for i in np.unique(groups)])\n",
    "    weights[0] = 0\n",
    "\n",
    "    if hess is not None:\n",
    "        # Estimated randomization covariance\n",
    "        #print(\"Estimated hessian used.\")\n",
    "        conv = group_lasso.logistic(X=X,\n",
    "                                successes=Y,\n",
    "                                trials=np.ones(n),\n",
    "                                groups=groups,\n",
    "                                weights=weights,\n",
    "                                useJacobian=True,\n",
    "                                cov_rand = hess)\n",
    "    else:\n",
    "        # Isotropic\n",
    "        #print(\"Isotropic randomization used.\")\n",
    "        conv = group_lasso.logistic(X=X,\n",
    "                                successes=Y,\n",
    "                                trials=np.ones(n),\n",
    "                                groups=groups,\n",
    "                                weights=weights,\n",
    "                                useJacobian=True,\n",
    "                                randomizer_scale=randomizer_scale * sigma_)\n",
    "    signs, soln = conv.fit()\n",
    "    nonzero = signs != 0\n",
    "    \n",
    "    \"\"\"if randomizer_scale is not None:\n",
    "        print(\"Rank of X_E:\", np.linalg.matrix_rank(X[:,nonzero]))\n",
    "        print(\"Dim of X_E:\", X[:,nonzero].shape[1])\"\"\"\n",
    "\n",
    "    conv.setup_inference(dispersion=1)\n",
    "\n",
    "    target_spec = selected_targets(conv.loglike,\n",
    "                                   conv.observed_soln,\n",
    "                                   dispersion=1)\n",
    "\n",
    "    result,FInfo = conv.inference(target_spec,\n",
    "                            method='selective_MLE',\n",
    "                            level=0.9)\n",
    "\n",
    "    pval = result['pvalue']\n",
    "    MLestimates = result['MLE']\n",
    "    intervals = np.asarray(result[['lower_confidence',\n",
    "                                   'upper_confidence']])\n",
    "\n",
    "    group_pvals = group_p_val(groups, nonzero, FInfo, MLestimates, col_names)\n",
    "\n",
    "    return MLestimates, intervals, pval, nonzero, group_pvals"
   ],
   "metadata": {
    "collapsed": false,
    "ExecuteTime": {
     "end_time": "2024-09-23T03:26:58.810691Z",
     "start_time": "2024-09-23T03:26:58.772811Z"
    }
   }
  },
  {
   "cell_type": "code",
   "execution_count": 28,
   "outputs": [],
   "source": [
    "def data_splitting(X, Y, n, p, groups, group_sizes, weight_frac=1. / np.sqrt(avg_sizes),\n",
    "                   proportion=0.67, level=0.9):\n",
    "\n",
    "    pi_s = proportion\n",
    "    subset_select = np.zeros(n, bool)\n",
    "    subset_select[:int(pi_s * n)] = True\n",
    "    n1 = subset_select.sum()\n",
    "    n2 = n - n1\n",
    "    np.random.shuffle(subset_select)\n",
    "    X_S = X[subset_select, :]\n",
    "    Y_S = Y[subset_select]\n",
    "\n",
    "    # Selection on the first subset of data\n",
    "    p = X.shape[1]\n",
    "    sigma_ = np.std(Y_S)\n",
    "    # weights = dict([(i, 0.5) for i in np.unique(groups)])\n",
    "    weights = dict([(i, (n1/n) * weight_frac * np.sqrt(group_sizes[i]) * sigma_ * np.sqrt(2 * np.log(p))) for i in np.unique(groups)])\n",
    "\n",
    "    conv = group_lasso.logistic(X=X_S,\n",
    "                                successes=Y_S,\n",
    "                                trials=np.ones(n1),\n",
    "                                groups=groups,\n",
    "                                weights=weights,\n",
    "                                useJacobian=True,\n",
    "                                perturb=np.zeros(p),\n",
    "                                ridge_term=0.)\n",
    "\n",
    "    signs, _ = conv.fit()\n",
    "    # print(\"signs\",  signs)\n",
    "    nonzero = signs != 0\n",
    "\n",
    "    n1 = subset_select.sum()\n",
    "    n2 = n - n1\n",
    "\n",
    "    if nonzero.sum() > 0:\n",
    "        X_notS = X[~subset_select, :]\n",
    "        Y_notS = Y[~subset_select]\n",
    "        \n",
    "        if rank_deficiency_qr(X_notS):\n",
    "            return None, None, None, None, None \n",
    "\n",
    "        # E: nonzero flag\n",
    "\n",
    "        X_notS_E = X_notS[:, nonzero]\n",
    "\n",
    "        # Solve for the unpenalized MLE\n",
    "        def pi_hess(x):\n",
    "            return np.exp(x) / (1 + np.exp(x)) ** 2\n",
    "\n",
    "        loglike = rr.glm.logistic(X_notS, successes=Y_notS, trials=np.ones(n2))\n",
    "        # For LASSO, this is the OLS solution on X_{E,U}\n",
    "        beta_MLE_notS = restricted_estimator(loglike, nonzero)\n",
    "\n",
    "        # Calculation the asymptotic covariance of the MLE\n",
    "        W = np.diag(pi_hess(X_notS_E @ beta_MLE_notS))\n",
    "\n",
    "        f_info = X_notS_E.T @ W @ X_notS_E\n",
    "        cov = np.linalg.inv(f_info)\n",
    "\n",
    "        # Standard errors\n",
    "        sd = np.sqrt(np.diag(cov))\n",
    "\n",
    "        # Normal quantiles\n",
    "        z_low = scipy.stats.norm.ppf((1 - level) / 2)\n",
    "        z_up = scipy.stats.norm.ppf(1 - (1 - level) / 2)\n",
    "        assert np.abs(np.abs(z_low) - np.abs(z_up)) < 10e-6\n",
    "\n",
    "        # Construct confidence intervals\n",
    "        intervals_low = beta_MLE_notS + z_low * sd\n",
    "        intervals_up = beta_MLE_notS + z_up * sd\n",
    "        intervals = np.asarray([intervals_low,intervals_up]).T\n",
    "\n",
    "        # p-values\n",
    "        Z_scores = beta_MLE_notS / sd\n",
    "        cdf_vals = ndist.cdf(Z_scores)\n",
    "        pvalues = []\n",
    "        for cdf in cdf_vals:\n",
    "            pvalues.append(2 * min(cdf, 1 - cdf))\n",
    "\n",
    "        group_pvals = group_p_val(groups, nonzero, cov, beta_MLE_notS, col_names)\n",
    "\n",
    "        return beta_MLE_notS, intervals, pvalues, nonzero, group_pvals\n",
    "\n",
    "    # If no variable selected, no inference\n",
    "    return None, None, None, None, None"
   ],
   "metadata": {
    "collapsed": false,
    "ExecuteTime": {
     "end_time": "2024-09-23T03:26:58.945471Z",
     "start_time": "2024-09-23T03:26:58.931644Z"
    }
   }
  },
  {
   "cell_type": "code",
   "execution_count": 29,
   "outputs": [],
   "source": [
    "def split_inference(X, Y, n, p, groups, group_sizes,\n",
    "                    weight_frac=1. / np.sqrt(avg_sizes),\n",
    "                    proportion=0.67):\n",
    "    # Setup tuning parameters\n",
    "    sigma_ = np.std(Y)\n",
    "    weights = dict([(i, weight_frac * np.sqrt(group_sizes[i]) * sigma_ * np.sqrt(2 * np.log(p))) for i in np.unique(groups)])\n",
    "    weights[0] = 0\n",
    "\n",
    "    # Solve the split lasso objective\n",
    "    conv = split_group_lasso.logistic(X=X,\n",
    "                                      successes=Y,\n",
    "                                      trials=np.ones(n),\n",
    "                                      groups=groups,\n",
    "                                      weights=weights,\n",
    "                                      useJacobian=True,\n",
    "                                      proportion=proportion)\n",
    "    signs, soln = conv.fit()\n",
    "    nonzero = signs != 0\n",
    "\n",
    "    conv.setup_inference(dispersion=1)\n",
    "\n",
    "    target_spec = selected_targets(conv.loglike,\n",
    "                                   conv.observed_soln,\n",
    "                                   dispersion=1)\n",
    "\n",
    "    result, FInfo = conv.inference(target_spec,\n",
    "                            method='selective_MLE',\n",
    "                            level=0.9)\n",
    "    MLestimates = result['MLE']\n",
    "    pval = result['pvalue']\n",
    "    intervals = np.asarray(result[['lower_confidence',\n",
    "                                   'upper_confidence']])\n",
    "\n",
    "    group_pvals = group_p_val(groups, nonzero, FInfo, MLestimates, col_names)\n",
    "\n",
    "    return MLestimates, intervals, pval, nonzero, group_pvals"
   ],
   "metadata": {
    "collapsed": false,
    "ExecuteTime": {
     "end_time": "2024-09-23T03:26:59.072852Z",
     "start_time": "2024-09-23T03:26:59.027799Z"
    }
   }
  },
  {
   "cell_type": "markdown",
   "source": [
    "# Subsampling"
   ],
   "metadata": {
    "collapsed": false
   }
  },
  {
   "cell_type": "code",
   "execution_count": 30,
   "outputs": [],
   "source": [
    "from sklearn.model_selection import train_test_split\n",
    "# Assuming `X` is your feature set and `Y` is your response variable\n",
    "Y = data_raw[\"depressed\"]"
   ],
   "metadata": {
    "collapsed": false,
    "ExecuteTime": {
     "end_time": "2024-09-23T03:26:59.224438Z",
     "start_time": "2024-09-23T03:26:59.171121Z"
    }
   }
  },
  {
   "cell_type": "code",
   "execution_count": 31,
   "outputs": [],
   "source": [
    "def stratified_sampling(design_X, Y, split_proportion=0.1):\n",
    "    rank = design_X.shape[1]\n",
    "    stop = False\n",
    "    while not stop:\n",
    "        X_train, X_test, Y_train, Y_test\\\n",
    "            = train_test_split(design_X, Y, test_size=split_proportion, stratify=Y)\n",
    "        design_X_sub = X_test\n",
    "        \n",
    "        n, p = design_X_sub.shape\n",
    "        scaling_cts = np.ones((p,))\n",
    "        scaling_cts[1:7] = design_X_sub.std(0)[1:7]\n",
    "        cts_logical = np.zeros((p,))\n",
    "        cts_logical[1:7] = 1.\n",
    "        scaling = design_X_sub.std(0) * np.sqrt(n)\n",
    "        scaling[0] = np.sqrt(n)\n",
    "        scaling[7:p] = np.sqrt(n)\n",
    "        \n",
    "        X_standardized = design_X_sub - (cts_logical * design_X_sub.mean(axis=0))\n",
    "        X_standardized = X_standardized / scaling[None, :]\n",
    "        if np.linalg.matrix_rank(X_standardized) == rank:\n",
    "            stop = True\n",
    "    \n",
    "    return Y_test, X_standardized"
   ],
   "metadata": {
    "collapsed": false,
    "ExecuteTime": {
     "end_time": "2024-09-23T03:26:59.236163Z",
     "start_time": "2024-09-23T03:26:59.225194Z"
    }
   }
  },
  {
   "cell_type": "code",
   "execution_count": 32,
   "outputs": [
    {
     "data": {
      "text/plain": "'Y, X_standardized = stratified_sampling(design_X=design_X,\\n                                        Y=Y, split_proportion=0.1)'"
     },
     "execution_count": 32,
     "metadata": {},
     "output_type": "execute_result"
    }
   ],
   "source": [
    "\"\"\"Y, X_standardized = stratified_sampling(design_X=design_X,\n",
    "                                        Y=Y, split_proportion=0.1)\"\"\""
   ],
   "metadata": {
    "collapsed": false,
    "ExecuteTime": {
     "end_time": "2024-09-23T03:26:59.518724Z",
     "start_time": "2024-09-23T03:26:59.327843Z"
    }
   }
  },
  {
   "cell_type": "code",
   "execution_count": 33,
   "outputs": [
    {
     "data": {
      "text/plain": "48"
     },
     "execution_count": 33,
     "metadata": {},
     "output_type": "execute_result"
    }
   ],
   "source": [
    "np.linalg.matrix_rank(X_standardized)"
   ],
   "metadata": {
    "collapsed": false,
    "ExecuteTime": {
     "end_time": "2024-09-23T03:26:59.569758Z",
     "start_time": "2024-09-23T03:26:59.429678Z"
    }
   }
  },
  {
   "cell_type": "markdown",
   "source": [
    " # Results"
   ],
   "metadata": {
    "collapsed": false
   }
  },
  {
   "cell_type": "code",
   "execution_count": 42,
   "outputs": [],
   "source": [
    "np.random.seed(48105)"
   ],
   "metadata": {
    "collapsed": false,
    "ExecuteTime": {
     "end_time": "2024-09-23T03:31:41.804219Z",
     "start_time": "2024-09-23T03:31:41.779478Z"
    }
   }
  },
  {
   "cell_type": "markdown",
   "source": [
    "## Fitting a group lasso on the full data"
   ],
   "metadata": {
    "collapsed": false
   }
  },
  {
   "cell_type": "code",
   "execution_count": 89,
   "outputs": [],
   "source": [
    "np.random.seed(48105)\n",
    "conv_full = naive_inference(X=X_standardized, Y=Y, n=n, p=p,\n",
    "                            groups=groups,group_sizes=sizes,\n",
    "                            weight_frac=0.7 / np.sqrt(avg_sizes), select_only=True)"
   ],
   "metadata": {
    "collapsed": false,
    "ExecuteTime": {
     "end_time": "2024-09-23T05:23:36.752049Z",
     "start_time": "2024-09-23T05:23:36.050418Z"
    }
   }
  },
  {
   "cell_type": "code",
   "execution_count": 90,
   "outputs": [
    {
     "data": {
      "text/plain": "[0, 2, 3, 5, 6, 9, 12, 15, 17, 18, 20, 21]"
     },
     "execution_count": 90,
     "metadata": {},
     "output_type": "execute_result"
    }
   ],
   "source": [
    "conv_full._ordered_groups"
   ],
   "metadata": {
    "collapsed": false,
    "ExecuteTime": {
     "end_time": "2024-09-23T05:23:36.797241Z",
     "start_time": "2024-09-23T05:23:36.772675Z"
    }
   }
  },
  {
   "cell_type": "code",
   "execution_count": 91,
   "outputs": [],
   "source": [
    "full_selection = conv_full._ordered_groups"
   ],
   "metadata": {
    "collapsed": false,
    "ExecuteTime": {
     "end_time": "2024-09-23T05:23:37.371783Z",
     "start_time": "2024-09-23T05:23:37.340759Z"
    }
   }
  },
  {
   "cell_type": "markdown",
   "source": [
    "## Fixing 'weight_frac' = 1"
   ],
   "metadata": {
    "collapsed": false
   }
  },
  {
   "cell_type": "code",
   "execution_count": 99,
   "outputs": [],
   "source": [
    "def subsample_inference(design_X, Y, full_selection, weight_const=0.5, seed=48105,\n",
    "                        n_sims=500, level=0.1):\n",
    "    full_selection_freq = [{g: 0 for g in full_selection} for _ in range(3)]\n",
    "    avg_lens_all_methods = [[] for _ in range(3)]\n",
    "    \n",
    "    np.random.seed(seed)\n",
    "    iter = 0\n",
    "    while iter < (n_sims):\n",
    "        print(iter, \"th simulation\")\n",
    "        Y_sub, X_sub = stratified_sampling(design_X=design_X,\n",
    "                                            Y=Y, split_proportion=0.1)\n",
    "        # Results are of format: [MLestimates, intervals, pval, nonzero, group_pvals]\n",
    "        n, p = X_sub.shape\n",
    "        #print(n, p)\n",
    "        #print(Y_sub.shape)\n",
    "        results = []\n",
    "        \n",
    "        ds_results = data_splitting(X=X_sub, Y=Y_sub, n=n, p=p, groups=groups,\n",
    "                                    group_sizes=sizes, \n",
    "                                    weight_frac=weight_const / np.sqrt(avg_sizes),\n",
    "                                    proportion=0.5)\n",
    "        results.append(ds_results)\n",
    "        if ds_results[0] is None:\n",
    "            continue\n",
    "        avg_lens_all_methods[0].append(np.mean(ds_results[1][:,1] - \n",
    "                                               ds_results[1][:,0]))\n",
    "        \n",
    "        randomize_results = randomized_inference(X=X_sub, Y=Y_sub, n=n, p=p,\n",
    "                             groups=groups, group_sizes=sizes,\n",
    "                             weight_frac=weight_const / np.sqrt(avg_sizes), proportion=0.5)\n",
    "        results.append(randomize_results)\n",
    "        avg_lens_all_methods[1].append(np.mean(randomize_results[1][:,1] - \n",
    "                                               randomize_results[1][:,0]))\n",
    "        \n",
    "        naive_results = naive_inference(X=X_sub, Y=Y_sub, n=n, p=p,\n",
    "                                        groups=groups,group_sizes=sizes,\n",
    "                                        weight_frac=weight_const / np.sqrt(avg_sizes))\n",
    "        results.append(naive_results)\n",
    "        avg_lens_all_methods[2].append(np.mean(naive_results[1][:,1] - \n",
    "                                               naive_results[1][:,0]))\n",
    "        \n",
    "        for i, r in enumerate(results):\n",
    "            groups_pvals = r[-1]\n",
    "            #print(groups_pvals)\n",
    "            for g_idx in groups_pvals.keys():\n",
    "                if g_idx in full_selection_freq[i]:\n",
    "                    if groups_pvals[g_idx] < level:\n",
    "                    #print(\"ENtered\")\n",
    "                        full_selection_freq[i][g_idx] += 1\n",
    "        iter += 1\n",
    "    \n",
    "    for i in range(len(full_selection_freq)):\n",
    "        for k in full_selection_freq[i].keys():\n",
    "            full_selection_freq[i][k] /= n_sims\n",
    "    return (full_selection_freq, avg_lens_all_methods)\n",
    "    \n",
    "    "
   ],
   "metadata": {
    "collapsed": false,
    "ExecuteTime": {
     "end_time": "2024-09-25T22:17:11.235817Z",
     "start_time": "2024-09-25T22:17:11.193817Z"
    }
   }
  },
  {
   "cell_type": "code",
   "execution_count": 98,
   "outputs": [
    {
     "name": "stdout",
     "output_type": "stream",
     "text": [
      "0 th simulation\n",
      "1 th simulation\n",
      "2 th simulation\n",
      "3 th simulation\n",
      "4 th simulation\n",
      "5 th simulation\n",
      "6 th simulation\n",
      "6 th simulation\n",
      "6 th simulation\n",
      "7 th simulation\n",
      "8 th simulation\n",
      "9 th simulation\n",
      "9 th simulation\n",
      "10 th simulation\n",
      "11 th simulation\n",
      "12 th simulation\n",
      "13 th simulation\n",
      "14 th simulation\n",
      "15 th simulation\n",
      "16 th simulation\n",
      "17 th simulation\n",
      "18 th simulation\n",
      "19 th simulation\n",
      "20 th simulation\n",
      "21 th simulation\n",
      "22 th simulation\n",
      "23 th simulation\n",
      "23 th simulation\n",
      "24 th simulation\n",
      "25 th simulation\n",
      "26 th simulation\n",
      "27 th simulation\n",
      "28 th simulation\n",
      "28 th simulation\n",
      "29 th simulation\n",
      "29 th simulation\n",
      "30 th simulation\n",
      "31 th simulation\n",
      "32 th simulation\n",
      "32 th simulation\n",
      "32 th simulation\n",
      "33 th simulation\n",
      "34 th simulation\n",
      "34 th simulation\n",
      "35 th simulation\n",
      "36 th simulation\n",
      "36 th simulation\n",
      "37 th simulation\n",
      "37 th simulation\n",
      "38 th simulation\n",
      "39 th simulation\n",
      "39 th simulation\n",
      "40 th simulation\n",
      "41 th simulation\n",
      "42 th simulation\n",
      "43 th simulation\n",
      "43 th simulation\n",
      "44 th simulation\n",
      "45 th simulation\n",
      "45 th simulation\n",
      "46 th simulation\n",
      "46 th simulation\n",
      "46 th simulation\n",
      "46 th simulation\n",
      "46 th simulation\n",
      "47 th simulation\n",
      "48 th simulation\n",
      "49 th simulation\n",
      "50 th simulation\n",
      "51 th simulation\n",
      "51 th simulation\n",
      "52 th simulation\n",
      "52 th simulation\n",
      "52 th simulation\n",
      "53 th simulation\n",
      "54 th simulation\n",
      "55 th simulation\n",
      "56 th simulation\n",
      "57 th simulation\n",
      "57 th simulation\n",
      "58 th simulation\n",
      "59 th simulation\n",
      "60 th simulation\n",
      "61 th simulation\n",
      "62 th simulation\n",
      "63 th simulation\n",
      "64 th simulation\n",
      "65 th simulation\n",
      "65 th simulation\n",
      "66 th simulation\n",
      "67 th simulation\n",
      "68 th simulation\n",
      "69 th simulation\n",
      "70 th simulation\n",
      "71 th simulation\n",
      "72 th simulation\n",
      "72 th simulation\n",
      "72 th simulation\n",
      "73 th simulation\n",
      "73 th simulation\n",
      "74 th simulation\n",
      "75 th simulation\n",
      "76 th simulation\n",
      "77 th simulation\n",
      "78 th simulation\n",
      "79 th simulation\n",
      "80 th simulation\n",
      "81 th simulation\n",
      "82 th simulation\n",
      "83 th simulation\n",
      "83 th simulation\n",
      "84 th simulation\n",
      "85 th simulation\n",
      "85 th simulation\n",
      "85 th simulation\n",
      "85 th simulation\n",
      "86 th simulation\n",
      "86 th simulation\n",
      "87 th simulation\n",
      "88 th simulation\n",
      "89 th simulation\n",
      "90 th simulation\n",
      "90 th simulation\n",
      "91 th simulation\n",
      "91 th simulation\n",
      "92 th simulation\n",
      "92 th simulation\n",
      "92 th simulation\n",
      "92 th simulation\n",
      "93 th simulation\n",
      "94 th simulation\n",
      "95 th simulation\n",
      "95 th simulation\n",
      "96 th simulation\n",
      "97 th simulation\n",
      "97 th simulation\n",
      "98 th simulation\n",
      "98 th simulation\n",
      "99 th simulation\n"
     ]
    }
   ],
   "source": [
    "results = subsample_inference(design_X, Y, full_selection=full_selection,\n",
    "                              weight_const=0.7, seed=48108, n_sims=100)"
   ],
   "metadata": {
    "collapsed": false,
    "ExecuteTime": {
     "end_time": "2024-09-23T05:31:20.780257Z",
     "start_time": "2024-09-23T05:28:38.755943Z"
    }
   }
  },
  {
   "cell_type": "code",
   "execution_count": 94,
   "outputs": [],
   "source": [
    "def plot_boxplots(ci_lengths, method_names):\n",
    "    \"\"\"\n",
    "    Plots boxplots of the average CI lengths for each method.\n",
    "    \n",
    "    Parameters:\n",
    "    - ci_lengths: A nested array where each inner array contains 100 avg lengths of a particular method over 100 simulations.\n",
    "    - method_names: A list of method names corresponding to each set of CI lengths.\n",
    "    \"\"\"\n",
    "    plt.figure(figsize=(10, 6))  # Adjust figure size as needed\n",
    "    \n",
    "    # Create boxplots\n",
    "    plt.boxplot(ci_lengths, labels=method_names)\n",
    "    \n",
    "    # Set title and labels\n",
    "    plt.title('Boxplots of Average CI Lengths for Different Methods')\n",
    "    plt.xlabel('Methods')\n",
    "    plt.ylabel('Average CI Length')\n",
    "    plt.ylim(0, 50)\n",
    "    \n",
    "    # Show plot\n",
    "    plt.show()\n",
    "\n",
    "\n",
    "def calculate_standard_error(p, n):\n",
    "    \"\"\"\n",
    "    Calculate the standard error for proportion data using the CLT formula.\n",
    "    \n",
    "    Parameters:\n",
    "    - p: Proportion of success (recovery rate).\n",
    "    - n: Number of simulations (or trials).\n",
    "    \n",
    "    Returns:\n",
    "    - Standard error for the proportion.\n",
    "    \"\"\"\n",
    "    return np.sqrt(p * (1 - p) / n)\n",
    "\n",
    "def plot_recovery_dots_with_calculated_errorbars(recovery_dicts, method_names, feature_indices, n_simulations):\n",
    "    \"\"\"\n",
    "    Plots dots with error bars to visualize recovery proportions across methods and features,\n",
    "    with jittering applied to the markers to avoid overlap, and automatically calculates \n",
    "    the error bars using the Central Limit Theorem (CLT).\n",
    "    \n",
    "    Parameters:\n",
    "    - recovery_dicts: List of dictionaries where each dict corresponds to a method, \n",
    "                      with keys as feature indices and values as recovery proportions.\n",
    "    - method_names: List of method names corresponding to each dictionary.\n",
    "    - feature_indices: List of feature indices that are used as the keys in the dictionaries.\n",
    "    - n_simulations: Number of simulations (or trials) used to calculate proportions (e.g., 100).\n",
    "    \"\"\"\n",
    "    plt.figure(figsize=(10, 6))\n",
    "    \n",
    "    # Convert feature indices to a categorical X-axis\n",
    "    x_positions = np.arange(len(feature_indices))\n",
    "\n",
    "    # Define jitter magnitude\n",
    "    jitter_amount = 0.25  # Adjust as needed to control how much the dots are spread out\n",
    "    \n",
    "    # Plot dots with error bars for each method with jittering applied\n",
    "    for i, recovery_dict in enumerate(recovery_dicts):\n",
    "        # Add jitter to the X-axis positions to prevent overlap\n",
    "        jittered_x = x_positions + np.random.uniform(-jitter_amount, jitter_amount, size=len(feature_indices))\n",
    "        recovery_proportions = [recovery_dict[feature] for feature in feature_indices]\n",
    "\n",
    "        # Calculate standard errors for each feature based on CLT\n",
    "        errors = [calculate_standard_error(p, n_simulations) for p in recovery_proportions]\n",
    "\n",
    "        # Plot the dots with error bars\n",
    "        plt.errorbar(jittered_x, recovery_proportions, yerr=errors, fmt='o', label=method_names[i], alpha=0.8)\n",
    "    \n",
    "    # Set X-axis to be categorical\n",
    "    plt.xticks(x_positions, feature_indices)\n",
    "    \n",
    "    # Set plot labels and title\n",
    "    plt.title('Feature Recovery Proportions Across Methods (Dots with CLT Error Bars)')\n",
    "    plt.xlabel('Feature Index')\n",
    "    plt.ylabel('Recovery Proportion')\n",
    "    \n",
    "    # Add legend\n",
    "    plt.legend(title='Methods')\n",
    "    \n",
    "    # Show grid for better visibility\n",
    "    plt.grid(True)\n",
    "    \n",
    "    # Show the plot\n",
    "    plt.show()"
   ],
   "metadata": {
    "collapsed": false,
    "ExecuteTime": {
     "end_time": "2024-09-23T05:27:36.914223Z",
     "start_time": "2024-09-23T05:27:36.893703Z"
    }
   }
  },
  {
   "cell_type": "code",
   "execution_count": 95,
   "outputs": [
    {
     "data": {
      "text/plain": "<Figure size 1000x600 with 1 Axes>",
      "image/png": "[encoded data removed]"
     },
     "metadata": {},
     "output_type": "display_data"
    }
   ],
   "source": [
    "plot_boxplots(ci_lengths=results[1], \n",
    "                method_names=[\"Data Splitting\", \"Hessian\", \"Naive\"])"
   ],
   "metadata": {
    "collapsed": false,
    "ExecuteTime": {
     "end_time": "2024-09-23T05:27:37.465107Z",
     "start_time": "2024-09-23T05:27:37.360315Z"
    }
   }
  },
  {
   "cell_type": "code",
   "execution_count": 96,
   "outputs": [
    {
     "data": {
      "text/plain": "<Figure size 1000x600 with 1 Axes>",
      "image/png": "[encoded data removed]"
     },
     "metadata": {},
     "output_type": "display_data"
    }
   ],
   "source": [
    "plot_recovery_dots_with_calculated_errorbars(recovery_dicts=results[0],\n",
    "                       method_names=[\"Hessian\", \n",
    "                                     \"Data Splitting\", \"Naive\"],\n",
    "                       feature_indices=conv_full._ordered_groups,\n",
    "                                             n_simulations=100)"
   ],
   "metadata": {
    "collapsed": false,
    "ExecuteTime": {
     "end_time": "2024-09-23T05:27:38.368064Z",
     "start_time": "2024-09-23T05:27:38.239387Z"
    }
   }
  },
  {
   "cell_type": "code",
   "execution_count": null,
   "outputs": [],
   "source": [],
   "metadata": {
    "collapsed": false
   }
  }
 ],
 "metadata": {
  "kernelspec": {
   "display_name": "Python 3",
   "language": "python",
   "name": "python3"
  },
  "language_info": {
   "codemirror_mode": {
    "name": "ipython",
    "version": 2
   },
   "file_extension": ".py",
   "mimetype": "text/x-python",
   "name": "python",
   "nbconvert_exporter": "python",
   "pygments_lexer": "ipython2",
   "version": "2.7.6"
  }
 },
 "nbformat": 4,
 "nbformat_minor": 0
}
